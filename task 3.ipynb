{
 "cells": [
  {
   "cell_type": "code",
   "execution_count": 1,
   "id": "d07d9988",
   "metadata": {},
   "outputs": [
    {
     "name": "stdout",
     "output_type": "stream",
     "text": [
      "   customer_id  credit_lines_outstanding  loan_amt_outstanding  \\\n",
      "0      8153374                         0           5221.545193   \n",
      "1      7442532                         5           1958.928726   \n",
      "2      2256073                         0           3363.009259   \n",
      "3      4885975                         0           4766.648001   \n",
      "4      4700614                         1           1345.827718   \n",
      "\n",
      "   total_debt_outstanding       income  years_employed  fico_score  default  \n",
      "0             3915.471226  78039.38546               5         605        0  \n",
      "1             8228.752520  26648.43525               2         572        1  \n",
      "2             2027.830850  65866.71246               4         602        0  \n",
      "3             2501.730397  74356.88347               5         612        0  \n",
      "4             1768.826187  23448.32631               6         631        0  \n",
      "customer_id                 0\n",
      "credit_lines_outstanding    0\n",
      "loan_amt_outstanding        0\n",
      "total_debt_outstanding      0\n",
      "income                      0\n",
      "years_employed              0\n",
      "fico_score                  0\n",
      "default                     0\n",
      "dtype: int64\n"
     ]
    }
   ],
   "source": [
    "import pandas as pd\n",
    "\n",
    "# Load the dataset\n",
    "data = pd.read_csv('Loan_Data.csv')\n",
    "\n",
    "# Display the first few rows of the dataset\n",
    "print(data.head())\n",
    "\n",
    "# Check for missing values\n",
    "print(data.isnull().sum())"
   ]
  },
  {
   "cell_type": "code",
   "execution_count": 2,
   "id": "c0922b80",
   "metadata": {},
   "outputs": [],
   "source": [
    "# Select independent variables and dependent variable\n",
    "X = data[['income', 'total_debt_outstanding', 'fico_score', 'years_employed']]\n",
    "y = data['default']"
   ]
  },
  {
   "cell_type": "code",
   "execution_count": 3,
   "id": "c4b6bd42",
   "metadata": {},
   "outputs": [],
   "source": [
    "from sklearn.model_selection import train_test_split\n",
    "\n",
    "# Split the dataset into training and testing sets\n",
    "X_train, X_test, y_train, y_test = train_test_split(X, y, test_size=0.2, random_state=42)"
   ]
  },
  {
   "cell_type": "code",
   "execution_count": 4,
   "id": "4a9f81c5",
   "metadata": {},
   "outputs": [
    {
     "name": "stdout",
     "output_type": "stream",
     "text": [
      "Accuracy: 0.986\n",
      "Confusion Matrix:\n",
      " [[1641   11]\n",
      " [  17  331]]\n",
      "Classification Report:\n",
      "               precision    recall  f1-score   support\n",
      "\n",
      "           0       0.99      0.99      0.99      1652\n",
      "           1       0.97      0.95      0.96       348\n",
      "\n",
      "    accuracy                           0.99      2000\n",
      "   macro avg       0.98      0.97      0.98      2000\n",
      "weighted avg       0.99      0.99      0.99      2000\n",
      "\n"
     ]
    }
   ],
   "source": [
    "from sklearn.linear_model import LogisticRegression\n",
    "from sklearn.metrics import accuracy_score, confusion_matrix, classification_report\n",
    "\n",
    "# Initialize and train the logistic regression model\n",
    "log_model = LogisticRegression()\n",
    "log_model.fit(X_train, y_train)\n",
    "\n",
    "# Make predictions on the test set\n",
    "y_pred = log_model.predict(X_test)\n",
    "\n",
    "# Evaluate the model\n",
    "print(\"Accuracy:\", accuracy_score(y_test, y_pred))\n",
    "print(\"Confusion Matrix:\\n\", confusion_matrix(y_test, y_pred))\n",
    "print(\"Classification Report:\\n\", classification_report(y_test, y_pred))"
   ]
  },
  {
   "cell_type": "code",
   "execution_count": 7,
   "id": "0a7c73fb",
   "metadata": {},
   "outputs": [
    {
     "name": "stdout",
     "output_type": "stream",
     "text": [
      "Expected Loss for loan amount 10000 with PD 1.778546348615269e-08: 0.00016006917137537422\n"
     ]
    },
    {
     "name": "stderr",
     "output_type": "stream",
     "text": [
      "/Users/chakuli/opt/anaconda3/lib/python3.9/site-packages/sklearn/base.py:450: UserWarning: X does not have valid feature names, but LogisticRegression was fitted with feature names\n",
      "  warnings.warn(\n"
     ]
    }
   ],
   "source": [
    "def expected_loss(loan_amount, pd):\n",
    "    recovery_rate = 0.10\n",
    "    return pd * loan_amount * (1 - recovery_rate)\n",
    "\n",
    "# Example usage:\n",
    "loan_amount_example = 10000  # Example loan amount\n",
    "pd_example = log_model.predict_proba([[78000, 5000, 700, 5]])[0][1]  # Example borrower details\n",
    "loss = expected_loss(loan_amount_example, pd_example)\n",
    "print(f\"Expected Loss for loan amount {loan_amount_example} with PD {pd_example}: {loss}\")"
   ]
  },
  {
   "cell_type": "code",
   "execution_count": 8,
   "id": "c56ffc23",
   "metadata": {},
   "outputs": [
    {
     "name": "stdout",
     "output_type": "stream",
     "text": [
      "Random Forest Accuracy: 0.98\n",
      "Confusion Matrix:\n",
      " [[1632   20]\n",
      " [  20  328]]\n",
      "Classification Report:\n",
      "               precision    recall  f1-score   support\n",
      "\n",
      "           0       0.99      0.99      0.99      1652\n",
      "           1       0.94      0.94      0.94       348\n",
      "\n",
      "    accuracy                           0.98      2000\n",
      "   macro avg       0.97      0.97      0.97      2000\n",
      "weighted avg       0.98      0.98      0.98      2000\n",
      "\n"
     ]
    }
   ],
   "source": [
    "from sklearn.ensemble import RandomForestClassifier\n",
    "from sklearn.metrics import accuracy_score, confusion_matrix, classification_report\n",
    "\n",
    "# Initialize and train the Random Forest model\n",
    "rf_model = RandomForestClassifier(n_estimators=100, random_state=42)\n",
    "rf_model.fit(X_train, y_train)\n",
    "\n",
    "# Make predictions on the test set\n",
    "y_rf_pred = rf_model.predict(X_test)\n",
    "\n",
    "# Evaluate the model\n",
    "print(\"Random Forest Accuracy:\", accuracy_score(y_test, y_rf_pred))\n",
    "print(\"Confusion Matrix:\\n\", confusion_matrix(y_test, y_rf_pred))\n",
    "print(\"Classification Report:\\n\", classification_report(y_test, y_rf_pred))"
   ]
  },
  {
   "cell_type": "code",
   "execution_count": 9,
   "id": "71431295",
   "metadata": {},
   "outputs": [
    {
     "name": "stdout",
     "output_type": "stream",
     "text": [
      "Gradient Boosting Accuracy: 0.985\n",
      "Confusion Matrix:\n",
      " [[1640   12]\n",
      " [  18  330]]\n",
      "Classification Report:\n",
      "               precision    recall  f1-score   support\n",
      "\n",
      "           0       0.99      0.99      0.99      1652\n",
      "           1       0.96      0.95      0.96       348\n",
      "\n",
      "    accuracy                           0.98      2000\n",
      "   macro avg       0.98      0.97      0.97      2000\n",
      "weighted avg       0.98      0.98      0.98      2000\n",
      "\n"
     ]
    }
   ],
   "source": [
    "from sklearn.ensemble import GradientBoostingClassifier\n",
    "\n",
    "# Initialize and train the Gradient Boosting model\n",
    "gb_model = GradientBoostingClassifier(n_estimators=100, random_state=42)\n",
    "gb_model.fit(X_train, y_train)\n",
    "\n",
    "# Make predictions on the test set\n",
    "y_gb_pred = gb_model.predict(X_test)\n",
    "\n",
    "# Evaluate the model\n",
    "print(\"Gradient Boosting Accuracy:\", accuracy_score(y_test, y_gb_pred))\n",
    "print(\"Confusion Matrix:\\n\", confusion_matrix(y_test, y_gb_pred))\n",
    "print(\"Classification Report:\\n\", classification_report(y_test, y_gb_pred))"
   ]
  },
  {
   "cell_type": "code",
   "execution_count": 10,
   "id": "9ebf1d44",
   "metadata": {},
   "outputs": [
    {
     "name": "stdout",
     "output_type": "stream",
     "text": [
      "Expected Loss for loan amount 10000 with RF PD 0.0: 0.0\n",
      "Expected Loss for loan amount 10000 with GB PD 0.0009902993119457208: 8.912693807511488\n"
     ]
    },
    {
     "name": "stderr",
     "output_type": "stream",
     "text": [
      "/Users/chakuli/opt/anaconda3/lib/python3.9/site-packages/sklearn/base.py:450: UserWarning: X does not have valid feature names, but RandomForestClassifier was fitted with feature names\n",
      "  warnings.warn(\n",
      "/Users/chakuli/opt/anaconda3/lib/python3.9/site-packages/sklearn/base.py:450: UserWarning: X does not have valid feature names, but GradientBoostingClassifier was fitted with feature names\n",
      "  warnings.warn(\n"
     ]
    }
   ],
   "source": [
    "def expected_loss(loan_amount, pd):\n",
    "    recovery_rate = 0.10  # Assuming a recovery rate of 10%\n",
    "    return pd * loan_amount * (1 - recovery_rate)\n",
    "\n",
    "# Example usage for Random Forest model:\n",
    "loan_amount_example = 10000  # Example loan amount\n",
    "pd_rf_example = rf_model.predict_proba([[78000, 5000, 700, 5]])[0][1]  # Example borrower details\n",
    "loss_rf = expected_loss(loan_amount_example, pd_rf_example)\n",
    "print(f\"Expected Loss for loan amount {loan_amount_example} with RF PD {pd_rf_example}: {loss_rf}\")\n",
    "\n",
    "# Example usage for Gradient Boosting model:\n",
    "pd_gb_example = gb_model.predict_proba([[78000, 5000, 700, 5]])[0][1]  # Example borrower details\n",
    "loss_gb = expected_loss(loan_amount_example, pd_gb_example)\n",
    "print(f\"Expected Loss for loan amount {loan_amount_example} with GB PD {pd_gb_example}: {loss_gb}\")"
   ]
  },
  {
   "cell_type": "code",
   "execution_count": null,
   "id": "55d7e9fc",
   "metadata": {},
   "outputs": [],
   "source": []
  }
 ],
 "metadata": {
  "kernelspec": {
   "display_name": "Python 3 (ipykernel)",
   "language": "python",
   "name": "python3"
  },
  "language_info": {
   "codemirror_mode": {
    "name": "ipython",
    "version": 3
   },
   "file_extension": ".py",
   "mimetype": "text/x-python",
   "name": "python",
   "nbconvert_exporter": "python",
   "pygments_lexer": "ipython3",
   "version": "3.9.13"
  }
 },
 "nbformat": 4,
 "nbformat_minor": 5
}
